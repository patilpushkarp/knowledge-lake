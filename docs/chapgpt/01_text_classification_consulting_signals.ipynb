{
 "cells": [
  {
   "cell_type": "markdown",
   "id": "18dd6e09",
   "metadata": {},
   "source": [
    "# 01 - Live News Classification into Consulting Themes\n",
    "\n",
    "In this notebook, we will:\n",
    "- Scrape live business news headlines using `newspaper3k`\n",
    "- Clean and prepare the data\n",
    "- Use zero-shot classification (BART-MNLI) to assign each article a consulting-relevant theme\n",
    "\n",
    "**Themes**:\n",
    "- Digital Transformation\n",
    "- Cost Reduction\n",
    "- Mergers and Acquisitions\n",
    "- Sustainability / ESG\n",
    "- Organizational Change\n",
    "- Supply Chain Optimization"
   ]
  },
  {
   "cell_type": "code",
   "execution_count": null,
   "id": "4b862503",
   "metadata": {},
   "outputs": [],
   "source": [
    "# Install required libraries (run only once)\n",
    "!pip install newspaper3k transformers torch --quiet"
   ]
  },
  {
   "cell_type": "code",
   "execution_count": null,
   "id": "b908c823",
   "metadata": {},
   "outputs": [],
   "source": [
    "# Imports\n",
    "from newspaper import Article\n",
    "from newspaper import build\n",
    "from transformers import pipeline\n",
    "import pandas as pd\n",
    "import nltk\n",
    "nltk.download('punkt')"
   ]
  },
  {
   "cell_type": "markdown",
   "id": "3160695d",
   "metadata": {},
   "source": [
    "## Step 1: Scrape Articles from Business News Site"
   ]
  },
  {
   "cell_type": "code",
   "execution_count": null,
   "id": "80d7dc37",
   "metadata": {},
   "outputs": [],
   "source": [
    "# Build newspaper source\n",
    "url = 'https://www.reuters.com/business/'\n",
    "paper = build(url, memoize_articles=False)\n",
    "\n",
    "articles = []\n",
    "for content in paper.articles[:10]:\n",
    "    try:\n",
    "        content.download()\n",
    "        content.parse()\n",
    "        content.nlp()\n",
    "        articles.append({\n",
    "            'title': content.title,\n",
    "            'summary': content.summary,\n",
    "            'url': content.url\n",
    "        })\n",
    "    except:\n",
    "        continue\n",
    "df = pd.DataFrame(articles)\n",
    "df.head()"
   ]
  },
  {
   "cell_type": "markdown",
   "id": "2c73aa9c",
   "metadata": {},
   "source": [
    "## Step 2: Define Consulting Themes"
   ]
  },
  {
   "cell_type": "code",
   "execution_count": null,
   "id": "1eb760f3",
   "metadata": {},
   "outputs": [],
   "source": [
    "consulting_themes = [\n",
    "    \"Digital Transformation\",\n",
    "    \"Cost Reduction\",\n",
    "    \"Mergers and Acquisitions\",\n",
    "    \"Sustainability / ESG\",\n",
    "    \"Organizational Change\",\n",
    "    \"Supply Chain Optimization\"\n",
    "]"
   ]
  },
  {
   "cell_type": "markdown",
   "id": "15cfb50e",
   "metadata": {},
   "source": [
    "## Step 3: Run Zero-Shot Classification"
   ]
  },
  {
   "cell_type": "code",
   "execution_count": null,
   "id": "8673b9c6",
   "metadata": {},
   "outputs": [],
   "source": [
    "# Load classifier pipeline\n",
    "classifier = pipeline(\"zero-shot-classification\", model=\"facebook/bart-large-mnli\")\n",
    "\n",
    "results = []\n",
    "for _, row in df.iterrows():\n",
    "    text = row['title'] + \". \" + row['summary']\n",
    "    prediction = classifier(text, consulting_themes)\n",
    "    results.append({\n",
    "        'Title': row['title'],\n",
    "        'Summary': row['summary'],\n",
    "        'Top Theme': prediction['labels'][0],\n",
    "        'Confidence': round(prediction['scores'][0], 2),\n",
    "        'URL': row['url']\n",
    "    })\n",
    "final_df = pd.DataFrame(results)\n",
    "final_df.sort_values(by='Confidence', ascending=False).reset_index(drop=True)"
   ]
  }
 ],
 "metadata": {
  "kernelspec": {
   "display_name": "project",
   "language": "python",
   "name": "python3"
  },
  "language_info": {
   "name": "python",
   "version": "3.13.1"
  }
 },
 "nbformat": 4,
 "nbformat_minor": 5
}
