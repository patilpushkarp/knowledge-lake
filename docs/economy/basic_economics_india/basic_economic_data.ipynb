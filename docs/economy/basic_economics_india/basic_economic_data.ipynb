{
 "cells": [
  {
   "cell_type": "markdown",
   "metadata": {},
   "source": [
    "# India: A story of Resilience"
   ]
  },
  {
   "cell_type": "markdown",
   "metadata": {},
   "source": [
    "![Incredible India](https://images.unsplash.com/photo-1595433306946-233f47e4af3a?q=80&w=2070&auto=format&fit=crop&ixlib=rb-4.0.3&ixid=M3wxMjA3fDB8MHxwaG90by1wYWdlfHx8fGVufDB8fHx8fA%3D%3D \"Credit: Remi Clinton - Morning Light Landscape\")"
   ]
  },
  {
   "cell_type": "markdown",
   "metadata": {},
   "source": [
    "## Introduction"
   ]
  },
  {
   "cell_type": "markdown",
   "metadata": {},
   "source": [
    "As one of the world's fastest-growing economies, India presents a fascinating tapestry of economic indicators that reflect its dynamic landscape. From fluctuating inflation rates to the ever-changing exchange rate with the US dollar, each element plays a crucial role in shaping the nation's financial narrative. In recent years, India has navigated a complex interplay of global oil prices, domestic growth challenges, and evolving consumer behaviors, all while striving to enhance the living standards of its vast population.  \n",
    "\n",
    "In this blog, we will delve into key economic metrics such as index prices, inflation rates, oil prices, exchange rates, GDP growth, and per capita income. By analyzing these indicators, we aim to provide a minimalist overview of India's economic health. Let us explore how these factors intertwine to paint a picture of resilience and opportunity in the Indian economy."
   ]
  },
  {
   "cell_type": "code",
   "execution_count": 13,
   "metadata": {},
   "outputs": [],
   "source": [
    "# Import the necessary libraries\n",
    "import pandas as pd\n",
    "import matplotlib.pyplot as plt\n",
    "import plotly.express as px"
   ]
  },
  {
   "cell_type": "markdown",
   "metadata": {},
   "source": [
    "## Knowing the data"
   ]
  },
  {
   "cell_type": "markdown",
   "metadata": {},
   "source": [
    "The dataset imported from Kaggle titled \"Economic Data of 9 Countries (1980-2020)\" provides a comprehensive overview of various economic indicators across nine countries over a span of four decades. This dataset includes crucial metrics such as GDP, inflation rates, exchange rates, and per capita income, allowing for a robust analysis of economic trends and patterns.  \n",
    "\n",
    "Key Features of the Dataset:\n",
    "- Countries Covered: The dataset encompasses economic data from nine diverse nations, enabling cross-country comparisons and analyses.\n",
    "- Time Frame: Spanning from 1980 to 2020, it captures significant economic events and shifts, providing valuable historical context.\n",
    "- Economic Indicators: Key indicators included are GDP growth rates, inflation rates, oil prices, and exchange rates, which are essential for understanding the economic landscape of each country.\n",
    "- Data Utility: This dataset is particularly useful for researchers, economists, and students interested in comparative economics, global market trends, and policy analysis.\n",
    "\n",
    "By leveraging this dataset, we will focus exclusively on India's economic indicators to gain insights into how the country has navigated various challenges and opportunities over the years. This targeted analysis will allow us to explore the unique trends and patterns within India's economy, making it a vital resource for understanding its growth trajectory and economic health in the context of the broader global landscape."
   ]
  },
  {
   "cell_type": "markdown",
   "metadata": {},
   "source": [
    "![India's Story](https://images.unsplash.com/photo-1465919292275-c60ba49da6ae?q=80&w=2111&auto=format&fit=crop&ixlib=rb-4.0.3&ixid=M3wxMjA3fDB8MHxwaG90by1wYWdlfHx8fGVufDB8fHx8fA%3D%3D \"Credit: Aditya Siva\")"
   ]
  },
  {
   "cell_type": "code",
   "execution_count": 3,
   "metadata": {},
   "outputs": [],
   "source": [
    "df = pd.read_csv('data/Economic Data - 9 Countries (1980-2020).csv')"
   ]
  },
  {
   "cell_type": "code",
   "execution_count": 5,
   "metadata": {},
   "outputs": [],
   "source": [
    "india = df[df[\"country\"]=='India']"
   ]
  },
  {
   "cell_type": "markdown",
   "metadata": {},
   "source": [
    "Let's sneak into the data first."
   ]
  },
  {
   "cell_type": "code",
   "execution_count": 6,
   "metadata": {},
   "outputs": [
    {
     "data": {
      "text/html": [
       "<div>\n",
       "<style scoped>\n",
       "    .dataframe tbody tr th:only-of-type {\n",
       "        vertical-align: middle;\n",
       "    }\n",
       "\n",
       "    .dataframe tbody tr th {\n",
       "        vertical-align: top;\n",
       "    }\n",
       "\n",
       "    .dataframe thead th {\n",
       "        text-align: right;\n",
       "    }\n",
       "</style>\n",
       "<table border=\"1\" class=\"dataframe\">\n",
       "  <thead>\n",
       "    <tr style=\"text-align: right;\">\n",
       "      <th></th>\n",
       "      <th>stock index</th>\n",
       "      <th>country</th>\n",
       "      <th>year</th>\n",
       "      <th>index price</th>\n",
       "      <th>log_indexprice</th>\n",
       "      <th>inflationrate</th>\n",
       "      <th>oil prices</th>\n",
       "      <th>exchange_rate</th>\n",
       "      <th>gdppercent</th>\n",
       "      <th>percapitaincome</th>\n",
       "      <th>unemploymentrate</th>\n",
       "      <th>manufacturingoutput</th>\n",
       "      <th>tradebalance</th>\n",
       "      <th>USTreasury</th>\n",
       "    </tr>\n",
       "  </thead>\n",
       "  <tbody>\n",
       "    <tr>\n",
       "      <th>82</th>\n",
       "      <td>Nifty 50</td>\n",
       "      <td>India</td>\n",
       "      <td>1980.0</td>\n",
       "      <td>NaN</td>\n",
       "      <td>3.02</td>\n",
       "      <td>0.11</td>\n",
       "      <td>21.59</td>\n",
       "      <td>7.89</td>\n",
       "      <td>0.07</td>\n",
       "      <td>267.0</td>\n",
       "      <td>0.03</td>\n",
       "      <td>31.21</td>\n",
       "      <td>-5.79</td>\n",
       "      <td>0.11</td>\n",
       "    </tr>\n",
       "    <tr>\n",
       "      <th>83</th>\n",
       "      <td>Nifty 50</td>\n",
       "      <td>India</td>\n",
       "      <td>1981.0</td>\n",
       "      <td>NaN</td>\n",
       "      <td>3.02</td>\n",
       "      <td>0.13</td>\n",
       "      <td>31.77</td>\n",
       "      <td>8.68</td>\n",
       "      <td>0.06</td>\n",
       "      <td>270.0</td>\n",
       "      <td>0.03</td>\n",
       "      <td>32.45</td>\n",
       "      <td>-5.10</td>\n",
       "      <td>0.14</td>\n",
       "    </tr>\n",
       "    <tr>\n",
       "      <th>84</th>\n",
       "      <td>Nifty 50</td>\n",
       "      <td>India</td>\n",
       "      <td>1982.0</td>\n",
       "      <td>NaN</td>\n",
       "      <td>3.02</td>\n",
       "      <td>0.08</td>\n",
       "      <td>28.52</td>\n",
       "      <td>9.48</td>\n",
       "      <td>0.03</td>\n",
       "      <td>274.0</td>\n",
       "      <td>0.03</td>\n",
       "      <td>32.86</td>\n",
       "      <td>-4.33</td>\n",
       "      <td>0.13</td>\n",
       "    </tr>\n",
       "    <tr>\n",
       "      <th>85</th>\n",
       "      <td>Nifty 50</td>\n",
       "      <td>India</td>\n",
       "      <td>1983.0</td>\n",
       "      <td>NaN</td>\n",
       "      <td>3.02</td>\n",
       "      <td>0.12</td>\n",
       "      <td>26.19</td>\n",
       "      <td>10.10</td>\n",
       "      <td>0.07</td>\n",
       "      <td>291.0</td>\n",
       "      <td>0.03</td>\n",
       "      <td>36.37</td>\n",
       "      <td>-4.40</td>\n",
       "      <td>0.11</td>\n",
       "    </tr>\n",
       "    <tr>\n",
       "      <th>86</th>\n",
       "      <td>Nifty 50</td>\n",
       "      <td>India</td>\n",
       "      <td>1984.0</td>\n",
       "      <td>NaN</td>\n",
       "      <td>3.02</td>\n",
       "      <td>0.08</td>\n",
       "      <td>25.88</td>\n",
       "      <td>11.35</td>\n",
       "      <td>0.04</td>\n",
       "      <td>277.0</td>\n",
       "      <td>0.03</td>\n",
       "      <td>35.45</td>\n",
       "      <td>-3.06</td>\n",
       "      <td>0.12</td>\n",
       "    </tr>\n",
       "  </tbody>\n",
       "</table>\n",
       "</div>"
      ],
      "text/plain": [
       "   stock index country    year  index price  log_indexprice  inflationrate   \n",
       "82    Nifty 50   India  1980.0          NaN            3.02           0.11  \\\n",
       "83    Nifty 50   India  1981.0          NaN            3.02           0.13   \n",
       "84    Nifty 50   India  1982.0          NaN            3.02           0.08   \n",
       "85    Nifty 50   India  1983.0          NaN            3.02           0.12   \n",
       "86    Nifty 50   India  1984.0          NaN            3.02           0.08   \n",
       "\n",
       "    oil prices  exchange_rate  gdppercent  percapitaincome  unemploymentrate   \n",
       "82       21.59           7.89        0.07            267.0              0.03  \\\n",
       "83       31.77           8.68        0.06            270.0              0.03   \n",
       "84       28.52           9.48        0.03            274.0              0.03   \n",
       "85       26.19          10.10        0.07            291.0              0.03   \n",
       "86       25.88          11.35        0.04            277.0              0.03   \n",
       "\n",
       "    manufacturingoutput  tradebalance  USTreasury  \n",
       "82                31.21         -5.79        0.11  \n",
       "83                32.45         -5.10        0.14  \n",
       "84                32.86         -4.33        0.13  \n",
       "85                36.37         -4.40        0.11  \n",
       "86                35.45         -3.06        0.12  "
      ]
     },
     "execution_count": 6,
     "metadata": {},
     "output_type": "execute_result"
    }
   ],
   "source": [
    "india.head()"
   ]
  },
  {
   "cell_type": "markdown",
   "metadata": {},
   "source": [
    "The first impression of the data suggest that some values for the *index price* are missing. Let use understand the distribution of the missing values. "
   ]
  },
  {
   "cell_type": "code",
   "execution_count": 8,
   "metadata": {},
   "outputs": [
    {
     "data": {
      "text/plain": [
       "stock index             0\n",
       "country                 0\n",
       "year                    0\n",
       "index price            10\n",
       "log_indexprice          0\n",
       "inflationrate           0\n",
       "oil prices              0\n",
       "exchange_rate           0\n",
       "gdppercent              0\n",
       "percapitaincome         0\n",
       "unemploymentrate        0\n",
       "manufacturingoutput     0\n",
       "tradebalance            1\n",
       "USTreasury              0\n",
       "dtype: int64"
      ]
     },
     "execution_count": 8,
     "metadata": {},
     "output_type": "execute_result"
    }
   ],
   "source": [
    "india.isnull().sum()"
   ]
  },
  {
   "cell_type": "markdown",
   "metadata": {},
   "source": [
    "Eventhough, the values in the *index price* column are NaN but the log of the same is repsented by the column log_indexprice. This column has the value of 302 for the missing values. Thus, the logarithmic values can be utilized instead of the base column as no data is missing in he column. Let us understand the trend of the index price."
   ]
  },
  {
   "cell_type": "code",
   "execution_count": 12,
   "metadata": {},
   "outputs": [
    {
     "data": {
      "image/png": "[encoded data removed]",
      "text/plain": [
       "<Figure size 1600x800 with 1 Axes>"
      ]
     },
     "metadata": {},
     "output_type": "display_data"
    }
   ],
   "source": [
    "plt.figure(figsize=(16, 8))\n",
    "plt.plot(india['year'], india['log_indexprice'], marker='o', linestyle='-', color='b')\n",
    "\n",
    "# Adding titles and labels\n",
    "plt.title('Log of Index Price Over Time')\n",
    "plt.xlabel('Time (Index)')\n",
    "plt.ylabel('Log Index Price')\n",
    "\n",
    "# Show grid\n",
    "plt.grid()\n",
    "\n",
    "# Display the plot\n",
    "plt.show()"
   ]
  },
  {
   "cell_type": "markdown",
   "metadata": {},
   "source": [
    "- From the above visualization, it can be seen that from the year 1980 to 1990 the values of index seems to be flat which can be attributed to the missing index price data with regards to India.  \n",
    "- Then we observe a sharp increase in the index price from the period 1990 to 1994 which can be attributed to the economic reforms and the increase in the consumer demands. The early 1990s marked a crucial time in India’s economic history, particularly with the liberalization reforms initiated in 1991. These reforms aimed to open up the economy, attract foreign investment, and boost industrial growth. As economic conditions improved, consumer demand likely rose, contributing to higher index prices.  \n",
    "- After the initial rise, the index price remains stagnant for nearly eight years from 1994 to 2002. This period was characterized by various challenges, including political instability, slow reforms, or external economic shocks that might have hindered growth. This was perpetuated by several global financial crises (e.g., the Asian Financial Crisis), which impacted investor confidence and economic activity in India.  \n",
    "- Following the stagnation, there is a notable increase in index prices leading up to 2008. This period was marked by robust economic growth in India, driven by IT and service sector expansion, increasing foreign direct investment (FDI), and a growing middle class. The global economy was also experiencing growth during this time, which likely contributed to increased demand for Indian goods and services.  \n",
    "- Then there was a sharp decline in index prices occurs in 2008. The collapse of major financial institutions in the U.S. led to a worldwide financial crisis. India was not immune to these effects, resulting in reduced consumer spending and investment. The sudden drop reflect a market correction following years of rapid growth.  \n",
    "- After the fall in 2008, there is a gradual increase in index prices. In the years following the crisis, economies typically go through a recovery phase. India's economy began to stabilize as government policies aimed at reviving growth took effect. Continued reforms and investments in infrastructure and other sectors contributed to gradual economic recovery."
   ]
  },
  {
   "cell_type": "code",
   "execution_count": 16,
   "metadata": {},
   "outputs": [
    {
     "data": {
      "application/vnd.plotly.v1+json": {
       "config": {
        "plotlyServerURL": "https://plot.ly"
       },
       "data": [
        {
         "hovertemplate": "year=%{x}<br>exchange_rate=%{y}<extra></extra>",
         "legendgroup": "",
         "line": {
          "color": "#636efa",
          "dash": "solid"
         },
         "marker": {
          "symbol": "circle"
         },
         "mode": "lines",
         "name": "",
         "orientation": "v",
         "showlegend": false,
         "type": "scatter",
         "x": [
          1980,
          1981,
          1982,
          1983,
          1984,
          1985,
          1986,
          1987,
          1988,
          1989,
          1990,
          1991,
          1992,
          1993,
          1994,
          1995,
          1996,
          1997,
          1998,
          1999,
          2000,
          2001,
          2002,
          2003,
          2004,
          2005,
          2006,
          2007,
          2008,
          2009,
          2010,
          2011,
          2012,
          2013,
          2014,
          2015,
          2016,
          2017,
          2018,
          2019,
          2020
         ],
         "xaxis": "x",
         "y": [
          7.89,
          8.68,
          9.48,
          10.1,
          11.35,
          12.33,
          12.6,
          12.95,
          13.9,
          16.21,
          17.49,
          22.71,
          28.16,
          31.29,
          31.39,
          32.42,
          35.51,
          36.36,
          41.36,
          43.13,
          45,
          47.22,
          48.63,
          46.59,
          45.26,
          44,
          45.19,
          41.18,
          43.39,
          48.33,
          45.65,
          46.58,
          53.37,
          58.51,
          61,
          64.11,
          67.16,
          65.07,
          68.37,
          70.38,
          74.14
         ],
         "yaxis": "y"
        }
       ],
       "layout": {
        "legend": {
         "tracegroupgap": 0
        },
        "template": {
         "data": {
          "bar": [
           {
            "error_x": {
             "color": "#2a3f5f"
            },
            "error_y": {
             "color": "#2a3f5f"
            },
            "marker": {
             "line": {
              "color": "#E5ECF6",
              "width": 0.5
             },
             "pattern": {
              "fillmode": "overlay",
              "size": 10,
              "solidity": 0.2
             }
            },
            "type": "bar"
           }
          ],
          "barpolar": [
           {
            "marker": {
             "line": {
              "color": "#E5ECF6",
              "width": 0.5
             },
             "pattern": {
              "fillmode": "overlay",
              "size": 10,
              "solidity": 0.2
             }
            },
            "type": "barpolar"
           }
          ],
          "carpet": [
           {
            "aaxis": {
             "endlinecolor": "#2a3f5f",
             "gridcolor": "white",
             "linecolor": "white",
             "minorgridcolor": "white",
             "startlinecolor": "#2a3f5f"
            },
            "baxis": {
             "endlinecolor": "#2a3f5f",
             "gridcolor": "white",
             "linecolor": "white",
             "minorgridcolor": "white",
             "startlinecolor": "#2a3f5f"
            },
            "type": "carpet"
           }
          ],
          "choropleth": [
           {
            "colorbar": {
             "outlinewidth": 0,
             "ticks": ""
            },
            "type": "choropleth"
           }
          ],
          "contour": [
           {
            "colorbar": {
             "outlinewidth": 0,
             "ticks": ""
            },
            "colorscale": [
             [
              0,
              "#0d0887"
             ],
             [
              0.1111111111111111,
              "#46039f"
             ],
             [
              0.2222222222222222,
              "#7201a8"
             ],
             [
              0.3333333333333333,
              "#9c179e"
             ],
             [
              0.4444444444444444,
              "#bd3786"
             ],
             [
              0.5555555555555556,
              "#d8576b"
             ],
             [
              0.6666666666666666,
              "#ed7953"
             ],
             [
              0.7777777777777778,
              "#fb9f3a"
             ],
             [
              0.8888888888888888,
              "#fdca26"
             ],
             [
              1,
              "#f0f921"
             ]
            ],
            "type": "contour"
           }
          ],
          "contourcarpet": [
           {
            "colorbar": {
             "outlinewidth": 0,
             "ticks": ""
            },
            "type": "contourcarpet"
           }
          ],
          "heatmap": [
           {
            "colorbar": {
             "outlinewidth": 0,
             "ticks": ""
            },
            "colorscale": [
             [
              0,
              "#0d0887"
             ],
             [
              0.1111111111111111,
              "#46039f"
             ],
             [
              0.2222222222222222,
              "#7201a8"
             ],
             [
              0.3333333333333333,
              "#9c179e"
             ],
             [
              0.4444444444444444,
              "#bd3786"
             ],
             [
              0.5555555555555556,
              "#d8576b"
             ],
             [
              0.6666666666666666,
              "#ed7953"
             ],
             [
              0.7777777777777778,
              "#fb9f3a"
             ],
             [
              0.8888888888888888,
              "#fdca26"
             ],
             [
              1,
              "#f0f921"
             ]
            ],
            "type": "heatmap"
           }
          ],
          "heatmapgl": [
           {
            "colorbar": {
             "outlinewidth": 0,
             "ticks": ""
            },
            "colorscale": [
             [
              0,
              "#0d0887"
             ],
             [
              0.1111111111111111,
              "#46039f"
             ],
             [
              0.2222222222222222,
              "#7201a8"
             ],
             [
              0.3333333333333333,
              "#9c179e"
             ],
             [
              0.4444444444444444,
              "#bd3786"
             ],
             [
              0.5555555555555556,
              "#d8576b"
             ],
             [
              0.6666666666666666,
              "#ed7953"
             ],
             [
              0.7777777777777778,
              "#fb9f3a"
             ],
             [
              0.8888888888888888,
              "#fdca26"
             ],
             [
              1,
              "#f0f921"
             ]
            ],
            "type": "heatmapgl"
           }
          ],
          "histogram": [
           {
            "marker": {
             "pattern": {
              "fillmode": "overlay",
              "size": 10,
              "solidity": 0.2
             }
            },
            "type": "histogram"
           }
          ],
          "histogram2d": [
           {
            "colorbar": {
             "outlinewidth": 0,
             "ticks": ""
            },
            "colorscale": [
             [
              0,
              "#0d0887"
             ],
             [
              0.1111111111111111,
              "#46039f"
             ],
             [
              0.2222222222222222,
              "#7201a8"
             ],
             [
              0.3333333333333333,
              "#9c179e"
             ],
             [
              0.4444444444444444,
              "#bd3786"
             ],
             [
              0.5555555555555556,
              "#d8576b"
             ],
             [
              0.6666666666666666,
              "#ed7953"
             ],
             [
              0.7777777777777778,
              "#fb9f3a"
             ],
             [
              0.8888888888888888,
              "#fdca26"
             ],
             [
              1,
              "#f0f921"
             ]
            ],
            "type": "histogram2d"
           }
          ],
          "histogram2dcontour": [
           {
            "colorbar": {
             "outlinewidth": 0,
             "ticks": ""
            },
            "colorscale": [
             [
              0,
              "#0d0887"
             ],
             [
              0.1111111111111111,
              "#46039f"
             ],
             [
              0.2222222222222222,
              "#7201a8"
             ],
             [
              0.3333333333333333,
              "#9c179e"
             ],
             [
              0.4444444444444444,
              "#bd3786"
             ],
             [
              0.5555555555555556,
              "#d8576b"
             ],
             [
              0.6666666666666666,
              "#ed7953"
             ],
             [
              0.7777777777777778,
              "#fb9f3a"
             ],
             [
              0.8888888888888888,
              "#fdca26"
             ],
             [
              1,
              "#f0f921"
             ]
            ],
            "type": "histogram2dcontour"
           }
          ],
          "mesh3d": [
           {
            "colorbar": {
             "outlinewidth": 0,
             "ticks": ""
            },
            "type": "mesh3d"
           }
          ],
          "parcoords": [
           {
            "line": {
             "colorbar": {
              "outlinewidth": 0,
              "ticks": ""
             }
            },
            "type": "parcoords"
           }
          ],
          "pie": [
           {
            "automargin": true,
            "type": "pie"
           }
          ],
          "scatter": [
           {
            "fillpattern": {
             "fillmode": "overlay",
             "size": 10,
             "solidity": 0.2
            },
            "type": "scatter"
           }
          ],
          "scatter3d": [
           {
            "line": {
             "colorbar": {
              "outlinewidth": 0,
              "ticks": ""
             }
            },
            "marker": {
             "colorbar": {
              "outlinewidth": 0,
              "ticks": ""
             }
            },
            "type": "scatter3d"
           }
          ],
          "scattercarpet": [
           {
            "marker": {
             "colorbar": {
              "outlinewidth": 0,
              "ticks": ""
             }
            },
            "type": "scattercarpet"
           }
          ],
          "scattergeo": [
           {
            "marker": {
             "colorbar": {
              "outlinewidth": 0,
              "ticks": ""
             }
            },
            "type": "scattergeo"
           }
          ],
          "scattergl": [
           {
            "marker": {
             "colorbar": {
              "outlinewidth": 0,
              "ticks": ""
             }
            },
            "type": "scattergl"
           }
          ],
          "scattermapbox": [
           {
            "marker": {
             "colorbar": {
              "outlinewidth": 0,
              "ticks": ""
             }
            },
            "type": "scattermapbox"
           }
          ],
          "scatterpolar": [
           {
            "marker": {
             "colorbar": {
              "outlinewidth": 0,
              "ticks": ""
             }
            },
            "type": "scatterpolar"
           }
          ],
          "scatterpolargl": [
           {
            "marker": {
             "colorbar": {
              "outlinewidth": 0,
              "ticks": ""
             }
            },
            "type": "scatterpolargl"
           }
          ],
          "scatterternary": [
           {
            "marker": {
             "colorbar": {
              "outlinewidth": 0,
              "ticks": ""
             }
            },
            "type": "scatterternary"
           }
          ],
          "surface": [
           {
            "colorbar": {
             "outlinewidth": 0,
             "ticks": ""
            },
            "colorscale": [
             [
              0,
              "#0d0887"
             ],
             [
              0.1111111111111111,
              "#46039f"
             ],
             [
              0.2222222222222222,
              "#7201a8"
             ],
             [
              0.3333333333333333,
              "#9c179e"
             ],
             [
              0.4444444444444444,
              "#bd3786"
             ],
             [
              0.5555555555555556,
              "#d8576b"
             ],
             [
              0.6666666666666666,
              "#ed7953"
             ],
             [
              0.7777777777777778,
              "#fb9f3a"
             ],
             [
              0.8888888888888888,
              "#fdca26"
             ],
             [
              1,
              "#f0f921"
             ]
            ],
            "type": "surface"
           }
          ],
          "table": [
           {
            "cells": {
             "fill": {
              "color": "#EBF0F8"
             },
             "line": {
              "color": "white"
             }
            },
            "header": {
             "fill": {
              "color": "#C8D4E3"
             },
             "line": {
              "color": "white"
             }
            },
            "type": "table"
           }
          ]
         },
         "layout": {
          "annotationdefaults": {
           "arrowcolor": "#2a3f5f",
           "arrowhead": 0,
           "arrowwidth": 1
          },
          "autotypenumbers": "strict",
          "coloraxis": {
           "colorbar": {
            "outlinewidth": 0,
            "ticks": ""
           }
          },
          "colorscale": {
           "diverging": [
            [
             0,
             "#8e0152"
            ],
            [
             0.1,
             "#c51b7d"
            ],
            [
             0.2,
             "#de77ae"
            ],
            [
             0.3,
             "#f1b6da"
            ],
            [
             0.4,
             "#fde0ef"
            ],
            [
             0.5,
             "#f7f7f7"
            ],
            [
             0.6,
             "#e6f5d0"
            ],
            [
             0.7,
             "#b8e186"
            ],
            [
             0.8,
             "#7fbc41"
            ],
            [
             0.9,
             "#4d9221"
            ],
            [
             1,
             "#276419"
            ]
           ],
           "sequential": [
            [
             0,
             "#0d0887"
            ],
            [
             0.1111111111111111,
             "#46039f"
            ],
            [
             0.2222222222222222,
             "#7201a8"
            ],
            [
             0.3333333333333333,
             "#9c179e"
            ],
            [
             0.4444444444444444,
             "#bd3786"
            ],
            [
             0.5555555555555556,
             "#d8576b"
            ],
            [
             0.6666666666666666,
             "#ed7953"
            ],
            [
             0.7777777777777778,
             "#fb9f3a"
            ],
            [
             0.8888888888888888,
             "#fdca26"
            ],
            [
             1,
             "#f0f921"
            ]
           ],
           "sequentialminus": [
            [
             0,
             "#0d0887"
            ],
            [
             0.1111111111111111,
             "#46039f"
            ],
            [
             0.2222222222222222,
             "#7201a8"
            ],
            [
             0.3333333333333333,
             "#9c179e"
            ],
            [
             0.4444444444444444,
             "#bd3786"
            ],
            [
             0.5555555555555556,
             "#d8576b"
            ],
            [
             0.6666666666666666,
             "#ed7953"
            ],
            [
             0.7777777777777778,
             "#fb9f3a"
            ],
            [
             0.8888888888888888,
             "#fdca26"
            ],
            [
             1,
             "#f0f921"
            ]
           ]
          },
          "colorway": [
           "#636efa",
           "#EF553B",
           "#00cc96",
           "#ab63fa",
           "#FFA15A",
           "#19d3f3",
           "#FF6692",
           "#B6E880",
           "#FF97FF",
           "#FECB52"
          ],
          "font": {
           "color": "#2a3f5f"
          },
          "geo": {
           "bgcolor": "white",
           "lakecolor": "white",
           "landcolor": "#E5ECF6",
           "showlakes": true,
           "showland": true,
           "subunitcolor": "white"
          },
          "hoverlabel": {
           "align": "left"
          },
          "hovermode": "closest",
          "mapbox": {
           "style": "light"
          },
          "paper_bgcolor": "white",
          "plot_bgcolor": "#E5ECF6",
          "polar": {
           "angularaxis": {
            "gridcolor": "white",
            "linecolor": "white",
            "ticks": ""
           },
           "bgcolor": "#E5ECF6",
           "radialaxis": {
            "gridcolor": "white",
            "linecolor": "white",
            "ticks": ""
           }
          },
          "scene": {
           "xaxis": {
            "backgroundcolor": "#E5ECF6",
            "gridcolor": "white",
            "gridwidth": 2,
            "linecolor": "white",
            "showbackground": true,
            "ticks": "",
            "zerolinecolor": "white"
           },
           "yaxis": {
            "backgroundcolor": "#E5ECF6",
            "gridcolor": "white",
            "gridwidth": 2,
            "linecolor": "white",
            "showbackground": true,
            "ticks": "",
            "zerolinecolor": "white"
           },
           "zaxis": {
            "backgroundcolor": "#E5ECF6",
            "gridcolor": "white",
            "gridwidth": 2,
            "linecolor": "white",
            "showbackground": true,
            "ticks": "",
            "zerolinecolor": "white"
           }
          },
          "shapedefaults": {
           "line": {
            "color": "#2a3f5f"
           }
          },
          "ternary": {
           "aaxis": {
            "gridcolor": "white",
            "linecolor": "white",
            "ticks": ""
           },
           "baxis": {
            "gridcolor": "white",
            "linecolor": "white",
            "ticks": ""
           },
           "bgcolor": "#E5ECF6",
           "caxis": {
            "gridcolor": "white",
            "linecolor": "white",
            "ticks": ""
           }
          },
          "title": {
           "x": 0.05
          },
          "xaxis": {
           "automargin": true,
           "gridcolor": "white",
           "linecolor": "white",
           "ticks": "",
           "title": {
            "standoff": 15
           },
           "zerolinecolor": "white",
           "zerolinewidth": 2
          },
          "yaxis": {
           "automargin": true,
           "gridcolor": "white",
           "linecolor": "white",
           "ticks": "",
           "title": {
            "standoff": 15
           },
           "zerolinecolor": "white",
           "zerolinewidth": 2
          }
         }
        },
        "title": {
         "text": "Exchange Rate Against US Dollar Over Time"
        },
        "xaxis": {
         "anchor": "y",
         "domain": [
          0,
          1
         ],
         "title": {
          "text": "Year"
         }
        },
        "yaxis": {
         "anchor": "x",
         "domain": [
          0,
          1
         ],
         "tickformat": ",.2f",
         "tickprefix": "Rs. ",
         "title": {
          "text": "Exchange Rate (INR to USD)"
         }
        }
       }
      }
     },
     "metadata": {},
     "output_type": "display_data"
    }
   ],
   "source": [
    "# Create a line plot using Plotly Express\n",
    "fig = px.line(india, x='year', y='exchange_rate', title='Exchange Rate Against US Dollar Over Time')\n",
    "\n",
    "# Add labels and format the y-axis if needed\n",
    "fig.update_layout(\n",
    "    xaxis_title='Year',\n",
    "    yaxis_title='Exchange Rate (INR to USD)',\n",
    "    yaxis_tickprefix='Rs. ',\n",
    "    yaxis_tickformat=',.2f'  # Format for two decimal places\n",
    ")\n",
    "\n",
    "# Show the plot\n",
    "fig.show()"
   ]
  },
  {
   "cell_type": "markdown",
   "metadata": {},
   "source": [
    "The exchange rate between the Indian Rupee (INR) and the US Dollar (USD) from 1990 to 2020 has experienced significant fluctuations influenced by various economic events and policy changes. Here’s a brief overview of the key trends during this period:  \n",
    "- **1990-1991: Economic Crisis and Liberalization**  \n",
    "In 1990, the exchange rate was approximately 17.01 INR per USD. However, by 1991, India faced a severe balance of payments crisis, leading to a devaluation of the rupee. The government was on the brink of default, and the rupee was officially pegged at around 22.74 INR per USD.\n",
    "Following liberalization reforms in 1991, which aimed to open up the economy, the rupee further depreciated, reaching about 25.92 INR per USD in 1992.  \n",
    "- **1992-2000: Gradual Depreciation**  \n",
    "The early 1990s saw continued depreciation due to high inflation and fiscal deficits. By 2000, the exchange rate had increased to approximately 43.50 INR per USD.\n",
    "This period was marked by economic reforms that gradually shifted India towards a more market-oriented economy, but challenges such as inflation and trade deficits persisted.\n",
    "- **2001-2008: Pre-Crisis Growth**  \n",
    "From 2001 to 2008, the rupee appreciated somewhat due to robust economic growth, reaching around 39.42 INR per USD in early 2007.\n",
    "However, by late 2008, as the global financial crisis unfolded, the exchange rate fell sharply to about 48.88 INR per USD in October 2008.\n",
    "- **2009-2013: Post-Crisis Recovery and Volatility**  \n",
    "After the crisis, the rupee fluctuated between 46 and 55 INR per USD during this period, reflecting recovery but also volatility due to external factors like capital outflows and changing global economic conditions.\n",
    "Notably, in May 2013, the rupee depreciated significantly from about 55.48 INR per USD to around 57.07 INR per USD within weeks due to increased dollar demand and capital flight.\n",
    "- **2014-2020: Gradual Depreciation**  \n",
    "The exchange rate continued to show a gradual depreciation trend, with rates reaching approximately 70.96 INR per USD in January 2020 and further increasing to about 73.78 INR by December 2020.\n",
    "Factors influencing this trend included persistent current account deficits, inflationary pressures, and global economic uncertainties exacerbated by events like the COVID-19 pandemic."
   ]
  }
 ],
 "metadata": {
  "kernelspec": {
   "display_name": "portfolio",
   "language": "python",
   "name": "python3"
  },
  "language_info": {
   "codemirror_mode": {
    "name": "ipython",
    "version": 3
   },
   "file_extension": ".py",
   "mimetype": "text/x-python",
   "name": "python",
   "nbconvert_exporter": "python",
   "pygments_lexer": "ipython3",
   "version": "3.8.16"
  }
 },
 "nbformat": 4,
 "nbformat_minor": 2
}
